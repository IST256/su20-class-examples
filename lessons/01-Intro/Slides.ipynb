{
 "cells": [
  {
   "cell_type": "markdown",
   "metadata": {
    "slideshow": {
     "slide_type": "slide"
    }
   },
   "source": [
    "# IST256 Applications Programming For Information Systems\n",
    "\n",
    "## Spring 2020\n",
    "\n",
    "## Michael Fudge"
   ]
  },
  {
   "cell_type": "markdown",
   "metadata": {
    "slideshow": {
     "slide_type": "slide"
    }
   },
   "source": [
    "# Agenda\n",
    "\n",
    "- Go over the syllabus \n",
    "- Recitation This week \n",
    "- Lesson 01 Introduction to Python Programing"
   ]
  },
  {
   "cell_type": "markdown",
   "metadata": {
    "slideshow": {
     "slide_type": "slide"
    }
   },
   "source": [
    "# Let's Go Over The Syllabus\n",
    "\n",
    "[https://ist256.github.io](https://ist256.github.io)"
   ]
  },
  {
   "cell_type": "markdown",
   "metadata": {
    "slideshow": {
     "slide_type": "slide"
    }
   },
   "source": [
    "# In Small Group This Week\n",
    "\n",
    "- Meet Your Prof. and small group mates\n",
    "- Understand how we use Jupyter, and git to hand in your homework.\n",
    "- What you don't finish in class is due on your own.\n",
    "- Due dates on syllabus."
   ]
  },
  {
   "cell_type": "markdown",
   "metadata": {
    "slideshow": {
     "slide_type": "slide"
    }
   },
   "source": [
    "# IST256 Lesson 01\n",
    "## Introduction to Python Programming\n",
    "\n",
    "\n",
    "- Zybook Ch 1\n",
    "- Severance Ch 1\n",
    "\n",
    "## Links\n",
    "\n",
    "- Participation: [https://poll.ist256.com](https://poll.ist256.com)\n",
    "- In-Class Questions: [http://bit.ly/sp20teams](http://bit.ly/sp20teams)\n"
   ]
  },
  {
   "cell_type": "markdown",
   "metadata": {
    "slideshow": {
     "slide_type": "slide"
    }
   },
   "source": [
    "# What is programming (a.k.a. Coding)?\n",
    "\n",
    "- **Programming** is the act of you telling the computer to perform a series of tasks.\n",
    "- You must tell the computer **exactly** what you want it to do, and must do so in a way that it can understand.\n",
    "- The instructions we give the computer is called **code** or **program**.\n",
    "- Code which follows an sequence of steps is known as an **algorithm**.\n",
    "- Algorithms do not need to be written in code."
   ]
  },
  {
   "cell_type": "markdown",
   "metadata": {
    "slideshow": {
     "slide_type": "slide"
    }
   },
   "source": [
    "# How Mike Eats M&M's ++\n",
    "\n",
    "```\n",
    "1. Open bag\n",
    "2. While bag is not empty:\n",
    "3.   Pour out handful of M&M's\n",
    "4.   Toss into mouth\n",
    "5.   Chew and Swallow Euphorically\n",
    "6. Pout now that the bag is empty.\n",
    "```\n",
    "\n",
    "++ Example of an algorithm not written in code\n"
   ]
  },
  {
   "cell_type": "markdown",
   "metadata": {
    "slideshow": {
     "slide_type": "slide"
    }
   },
   "source": [
    "# Q: Why is Programming Notoriourly Diffciult?\n"
   ]
  },
  {
   "cell_type": "markdown",
   "metadata": {
    "slideshow": {
     "slide_type": "fragment"
    }
   },
   "source": [
    "# A: It's Not\n",
    "\n",
    "### \"Writing code is relatively straightforward; solving problems with code is not.\"  -- Your Professor\n",
    "\n",
    "### \"The purpose of coding is to solve problems.\" --  Your Professor, Again"
   ]
  },
  {
   "cell_type": "markdown",
   "metadata": {
    "slideshow": {
     "slide_type": "slide"
    }
   },
   "source": [
    "# Problem Solving With Code\n",
    "\n",
    "- **Is**\n",
    "  - Difficult\n",
    "  - Time Consuming\n",
    "  - Frustrating\n",
    "  - Rewarding\n",
    "- **Requires**\n",
    "  - Patience\n",
    "  - Precision\n",
    "  - Persistence\n",
    "  - Practice (Lots of it)"
   ]
  },
  {
   "cell_type": "markdown",
   "metadata": {
    "slideshow": {
     "slide_type": "slide"
    }
   },
   "source": [
    "# Course Learning Outcomes Will Not Come Easy\n",
    "\n",
    "- Analyze complex problems by thinking computationally and systematically.\n",
    "- Solve practical, real-world problems using a modern computer programming language..\n",
    "- Demonstrate the ability to read, write, discuss and code confidently.\n",
    "- Understand how to code in teams, collaborate with others and manage source code.\n",
    "- Acquire new programming knowledge independently."
   ]
  },
  {
   "cell_type": "markdown",
   "metadata": {
    "slideshow": {
     "slide_type": "slide"
    }
   },
   "source": [
    "# Why Learn the Python Programming Language?\n",
    "\n",
    "- Easy to learn with simple syntax.\n",
    "- Has a wealth of existing code you can leverage in your programs.\n",
    "- You can do complex things with very little typing.\n",
    "- Very popular with information professionals (Data Science, Analytics, Information Security).\n",
    "- Consistently one of the top 5 programming languages on the TIOBE Index [https://www.tiobe.com/tiobe-index/](https://www.tiobe.com/tiobe-index/)"
   ]
  },
  {
   "cell_type": "markdown",
   "metadata": {
    "slideshow": {
     "slide_type": "slide"
    }
   },
   "source": [
    "# Enough Talk! Let's Get Doing!\n"
   ]
  },
  {
   "cell_type": "markdown",
   "metadata": {
    "slideshow": {
     "slide_type": "slide"
    }
   },
   "source": [
    "# Your First Problem Solving Approach:\n",
    "\n",
    "## Input => Process => Output\n",
    "\n",
    "1. Identify the problem inputs (requirements)\n",
    "2. Identify the problem outputs (results)\n",
    "3. Write an algorithm to transoform inputs to outputs.\n",
    "4. If you don't know how to do a step... research it!\n",
    "\n"
   ]
  },
  {
   "cell_type": "markdown",
   "metadata": {
    "slideshow": {
     "slide_type": "slide"
    }
   },
   "source": [
    "# Python Output\n",
    "\n",
    "- The built in function `print()` is used to display output in Python.\n",
    "- It takes one argument in single or double quotes known as a string literal. \n",
    "- The string literal is enclosed in single or double quotes.\n",
    "- Multiple string literals may be separated by a comma.\n"
   ]
  },
  {
   "cell_type": "markdown",
   "metadata": {
    "slideshow": {
     "slide_type": "slide"
    }
   },
   "source": [
    "# Watch Me Code 1\n",
    "\n",
    "Demonstrating Python's built in `print()` function:\n",
    "\n",
    "- String literals\n",
    "- Single and double quotes\n",
    "- More than one argument to the function\n"
   ]
  },
  {
   "cell_type": "markdown",
   "metadata": {
    "slideshow": {
     "slide_type": "slide"
    }
   },
   "source": [
    "# Check Yourself 1\n",
    "\n",
    "Which Python statement will output `welcome` ?\n",
    "\n",
    "A. `print(welcome)`  \n",
    "B. `print(\"welcome\")`  \n",
    "C. `print \"welcome\"`  \n",
    "D. `print welcome` \n",
    "\n",
    "## Vote Now: [https://poll.ist256.com](https://poll.ist256.com)\n",
    "\n"
   ]
  },
  {
   "cell_type": "markdown",
   "metadata": {
    "slideshow": {
     "slide_type": "slide"
    }
   },
   "source": [
    "# Variables\n",
    "\n",
    "- **Variables** are named areas of computer memory for storing data. \n",
    "- The **variable name** can be anything but should make symbolic sense to the programmer.\n",
    "- We **write** to the variable’s memory location with the *assignment statement* (=)\n",
    "- We **read** from the variable by calling its name. \n",
    "- Variable names must begin with a letter or _ and must only contain letters, numbers or _.\n"
   ]
  },
  {
   "cell_type": "markdown",
   "metadata": {
    "slideshow": {
     "slide_type": "slide"
    }
   },
   "source": [
    "# Python Input\n",
    "\n",
    "- The built in function `input()` accepts input from the user. \n",
    "- It takes one argument a **string literal** which prompts (provides instructions to the user).\n",
    "- Input is commonly assigned to a **variable** so that the input can be used later on. \n"
   ]
  },
  {
   "cell_type": "markdown",
   "metadata": {
    "slideshow": {
     "slide_type": "slide"
    }
   },
   "source": [
    "# Watch Me Code 2\n",
    "\n",
    "- The built in `input()` function\n",
    "- Using a prompt\n",
    "- Storing the output from `input()` into a variable\n",
    "- Printing the variable"
   ]
  },
  {
   "cell_type": "markdown",
   "metadata": {
    "slideshow": {
     "slide_type": "slide"
    }
   },
   "source": [
    "# Check Yourself 2\n",
    "\n",
    "For the following code, which is the prompt?  \n",
    "`x = input('y')`\n",
    "\n",
    "A. `input`  \n",
    "B. `'y'`  \n",
    "C. `=`  \n",
    "D. `x`  \n",
    "\n",
    "## Vote Now: [https://poll.ist256.com](https://poll.ist256.com)"
   ]
  },
  {
   "cell_type": "markdown",
   "metadata": {
    "slideshow": {
     "slide_type": "slide"
    }
   },
   "source": [
    "# Watch Me Code 3\n",
    "\n",
    "Put the `input()` and `print()` statements together.\n",
    "\n",
    "- Inputs and outputs into a program\n",
    "- Prompts that change based on input\n",
    "- Demonstrate use of `sep` and `end` arguments to `print()`\n",
    "- F-Strings for formatting variables through interpolation.\n"
   ]
  },
  {
   "cell_type": "markdown",
   "metadata": {
    "slideshow": {
     "slide_type": "slide"
    }
   },
   "source": [
    "# End To End Example\n",
    "\n",
    "### Mad-Libs!\n",
    "\n",
    "- Write a program to prompt to create a mad-libs type story generator in Python.\n",
    "\n",
    "Here's the story I want to make:\n",
    "\n",
    "- There once was a man named `[persons-name]`. He liked to eat `[food-or-thing]`. One day he ate so much `[food-or-thing]` he `[past-tense-verb]` all the way to `[city]`.\n",
    "- Input? Output? Process?"
   ]
  },
  {
   "cell_type": "markdown",
   "metadata": {
    "slideshow": {
     "slide_type": "slide"
    }
   },
   "source": [
    "# To-Do Before Your Recitation\n",
    "\n",
    "1. Read the Syllabus\n",
    "2. Complete the course setup [https://ist256.github.io/setup/](https://ist256.github.io/setup/)\n",
    "3. Purchase your Zybook [https://ist256.github.io/syllabus/#activating-your-zybook](https://ist256.github.io/syllabus/#activating-your-zybook)\n",
    "4. Read the Syllabus (Again! And Ask Questions)\n",
    "5. NEXT WEEK: No Large Group, but you will  complete lesson 2 in small group!"
   ]
  }
 ],
 "metadata": {
  "celltoolbar": "Slideshow",
  "kernelspec": {
   "display_name": "Python 3",
   "language": "python",
   "name": "python3"
  },
  "language_info": {
   "codemirror_mode": {
    "name": "ipython",
    "version": 3
   },
   "file_extension": ".py",
   "mimetype": "text/x-python",
   "name": "python",
   "nbconvert_exporter": "python",
   "pygments_lexer": "ipython3",
   "version": "3.6.6"
  },
  "toc": {
   "base_numbering": 1,
   "nav_menu": {},
   "number_sections": false,
   "sideBar": false,
   "skip_h1_title": false,
   "title_cell": "Table of Contents",
   "title_sidebar": "Contents",
   "toc_cell": false,
   "toc_position": {},
   "toc_section_display": false,
   "toc_window_display": false
  }
 },
 "nbformat": 4,
 "nbformat_minor": 2
}
